{
 "cells": [
  {
   "cell_type": "code",
   "execution_count": 1,
   "metadata": {},
   "outputs": [
    {
     "name": "stderr",
     "output_type": "stream",
     "text": [
      "/Users/alexbolanos/anaconda2/lib/python2.7/site-packages/IPython/core/interactiveshell.py:2718: DtypeWarning: Columns (19) have mixed types. Specify dtype option on import or set low_memory=False.\n",
      "  interactivity=interactivity, compiler=compiler, result=result)\n"
     ]
    }
   ],
   "source": [
    "import pandas as pd\n",
    "import numpy as np\n",
    "\n",
    "data = pd.read_csv('glassdoor_reviews.csv')"
   ]
  },
  {
   "cell_type": "code",
   "execution_count": 2,
   "metadata": {},
   "outputs": [
    {
     "data": {
      "text/plain": [
       "['Ticker Symbol',\n",
       " 'Entity Name',\n",
       " 'Dataset',\n",
       " 'CUSIP',\n",
       " 'ISIN',\n",
       " 'Unique ID',\n",
       " 'As Of Date',\n",
       " 'Review Url',\n",
       " 'Logo',\n",
       " 'Author Title',\n",
       " 'Author Location',\n",
       " 'Author Country',\n",
       " 'Summary',\n",
       " 'Description',\n",
       " 'PROs',\n",
       " 'CONs',\n",
       " 'Recommends Value',\n",
       " 'Recommends Description',\n",
       " 'Outlook Value',\n",
       " 'Outlook Description',\n",
       " 'CEO Review Value',\n",
       " 'CEO Review Description',\n",
       " 'Helpful Count',\n",
       " 'Rating: Overall',\n",
       " 'Rating: Work/Life Balance',\n",
       " 'Rating: Culture & Values',\n",
       " 'Rating: Career Opportunities',\n",
       " 'Rating: Comp & Benefits',\n",
       " 'Rating: Senior Management',\n",
       " 'Company Id',\n",
       " 'Company URL',\n",
       " 'Date Added',\n",
       " 'Date Updated',\n",
       " 'Ticker Sector',\n",
       " 'Ticker Industry']"
      ]
     },
     "execution_count": 2,
     "metadata": {},
     "output_type": "execute_result"
    }
   ],
   "source": [
    "list(data)"
   ]
  },
  {
   "cell_type": "code",
   "execution_count": 13,
   "metadata": {},
   "outputs": [
    {
     "name": "stdout",
     "output_type": "stream",
     "text": [
      "Number of unique public companies: 4938\n",
      "Total number of unique companies: 5833\n",
      "Number of unique private companies: 895\n",
      "Number of unique sectors: 11\n",
      "Number of unique industries: 40\n",
      "Total number of reviews: 2631927\n"
     ]
    }
   ],
   "source": [
    "public = len(data['Ticker Symbol'].unique())  # Number of unique public companies\n",
    "print('Number of unique public companies: ' + str(public))\n",
    "totalCompanies = len(data['Dataset'].unique())         # Dataset = unique number identifier\n",
    "print('Total number of unique companies: ' + str(totalCompanies))\n",
    "#print len(data['Company Id'].unique())       # Number of unique companies. \n",
    "private = total - public\n",
    "print('Number of unique private companies: ' + str(private))\n",
    "\n",
    "sector = len(data['Ticker Sector'].unique())      # 11 unique sectors\n",
    "print('Number of unique sectors: ' + str(sector))\n",
    "industry =  len(data['Ticker Industry'].unique()) # 40 unique industries\n",
    "print('Number of unique industries: ' + str(industry))\n",
    "totalReviews = len(data)   # Total length of company reviews dataset\n",
    "print('Total number of reviews: ' + str(totalReviews))"
   ]
  },
  {
   "cell_type": "code",
   "execution_count": 14,
   "metadata": {},
   "outputs": [
    {
     "data": {
      "text/plain": [
       "451.213269329676"
      ]
     },
     "execution_count": 14,
     "metadata": {},
     "output_type": "execute_result"
    }
   ],
   "source": [
    "(1.0*totalReviews)/(totalCompanies)"
   ]
  },
  {
   "cell_type": "code",
   "execution_count": 9,
   "metadata": {},
   "outputs": [
    {
     "name": "stdout",
     "output_type": "stream",
     "text": [
      "11 Unique Sectors:\n",
      "['Health Care' nan 'Consumer Services' 'Oil & Gas' 'Industrials'\n",
      " 'Financials' 'Technology' 'Consumer Goods' 'Telecommunications'\n",
      " 'Utilities' 'Basic Materials']\n",
      "\n",
      "40 Unique Industries:\n",
      "['Pharmaceuticals & Biotechnology' nan 'Food & Drug Retailers'\n",
      " 'Oil & Gas Producers' 'Industrial Engineering' 'General Industrials'\n",
      " 'General Financial' 'Software & Computer Services'\n",
      " 'Industrial Transportation' 'Financial Services'\n",
      " 'Construction & Materials' 'Banks' 'Aerospace & Defense' 'Food Producers'\n",
      " 'General Retailers' 'Health Care Equipment & Services'\n",
      " 'Technology Hardware & Equipment' 'Life Insurance' 'Support Services'\n",
      " 'Media' 'Household Goods' 'Mobile Telecommunications'\n",
      " 'Oil Equipment, Services & Distribution' 'Alternative Energy'\n",
      " 'Travel & Leisure' 'Leisure Goods' 'Personal Goods' 'Automobiles & Parts'\n",
      " 'Tobacco' 'Fixed Line Telecommunications' 'Electricity'\n",
      " 'Nonlife Insurance' 'Industrial Metals' 'Chemicals'\n",
      " 'Electronic & Electrical Equipment' 'Beverages' 'Forestry & Paper'\n",
      " 'Gas, Water & Multi-utilities' 'Real Estate Investment & Services'\n",
      " 'Mining']\n"
     ]
    }
   ],
   "source": [
    "sector = data['Ticker Sector'].unique()\n",
    "print('11 Unique Sectors:')\n",
    "print(sector)\n",
    "print('')\n",
    "\n",
    "print('40 Unique Industries:')\n",
    "industry = data['Ticker Industry'].unique()\n",
    "print(industry)"
   ]
  },
  {
   "cell_type": "code",
   "execution_count": 57,
   "metadata": {},
   "outputs": [
    {
     "name": "stdout",
     "output_type": "stream",
     "text": [
      "    Ticker Symbol                                 Entity Name  Dataset  \\\n",
      "98    nasdaq:aapl  https://www.glassdoor.com?employer_id=1138  2327533   \n",
      "280   nasdaq:aapl  https://www.glassdoor.com?employer_id=1138  2327533   \n",
      "304   nasdaq:aapl  https://www.glassdoor.com?employer_id=1138  2327533   \n",
      "586   nasdaq:aapl  https://www.glassdoor.com?employer_id=1138  2327533   \n",
      "626   nasdaq:aapl  https://www.glassdoor.com?employer_id=1138  2327533   \n",
      "637   nasdaq:aapl  https://www.glassdoor.com?employer_id=1138  2327533   \n",
      "659   nasdaq:aapl  https://www.glassdoor.com?employer_id=1138  2327533   \n",
      "826   nasdaq:aapl  https://www.glassdoor.com?employer_id=1138  2327533   \n",
      "874   nasdaq:aapl  https://www.glassdoor.com?employer_id=1138  2327533   \n",
      "934   nasdaq:aapl  https://www.glassdoor.com?employer_id=1138  2327533   \n",
      "\n",
      "         CUSIP          ISIN  Unique ID              As Of Date  \\\n",
      "98   037833100  US0378331005    3065551  2018-09-09 04:00:00+00   \n",
      "280  037833100  US0378331005    3065550  2018-09-09 04:00:00+00   \n",
      "304  037833100  US0378331005    3065552  2018-09-09 04:00:00+00   \n",
      "586  037833100  US0378331005    3065091  2018-09-08 04:00:00+00   \n",
      "626  037833100  US0378331005    3065095  2018-09-08 04:00:00+00   \n",
      "637  037833100  US0378331005    3065093  2018-09-08 04:00:00+00   \n",
      "659  037833100  US0378331005    3065092  2018-09-08 04:00:00+00   \n",
      "826  037833100  US0378331005    3064617  2018-09-07 04:00:00+00   \n",
      "874  037833100  US0378331005    3065094  2018-09-07 04:00:00+00   \n",
      "934  037833100  US0378331005    3064615  2018-09-07 04:00:00+00   \n",
      "\n",
      "                                            Review Url  \\\n",
      "98   https://www.glassdoor.com/Reviews/Employee-Rev...   \n",
      "280  https://www.glassdoor.com/Reviews/Employee-Rev...   \n",
      "304  https://www.glassdoor.com/Reviews/Employee-Rev...   \n",
      "586  https://www.glassdoor.com/Reviews/Employee-Rev...   \n",
      "626  https://www.glassdoor.com/Reviews/Employee-Rev...   \n",
      "637  https://www.glassdoor.com/Reviews/Employee-Rev...   \n",
      "659  https://www.glassdoor.com/Reviews/Employee-Rev...   \n",
      "826  https://www.glassdoor.com/Reviews/Employee-Rev...   \n",
      "874  https://www.glassdoor.com/Reviews/Employee-Rev...   \n",
      "934  https://www.glassdoor.com/Reviews/Employee-Rev...   \n",
      "\n",
      "                                                  Logo  \\\n",
      "98   https://media.glassdoor.com/sqls/1138/apple-sq...   \n",
      "280  https://media.glassdoor.com/sqls/1138/apple-sq...   \n",
      "304  https://media.glassdoor.com/sqls/1138/apple-sq...   \n",
      "586  https://media.glassdoor.com/sqls/1138/apple-sq...   \n",
      "626  https://media.glassdoor.com/sqls/1138/apple-sq...   \n",
      "637  https://media.glassdoor.com/sqls/1138/apple-sq...   \n",
      "659  https://media.glassdoor.com/sqls/1138/apple-sq...   \n",
      "826  https://media.glassdoor.com/sqls/1138/apple-sq...   \n",
      "874  https://media.glassdoor.com/sqls/1138/apple-sq...   \n",
      "934  https://media.glassdoor.com/sqls/1138/apple-sq...   \n",
      "\n",
      "                                    Author Title  \\\n",
      "98           Former Employee - Firmware Engineer   \n",
      "280         Current Employee - Hardware Engineer   \n",
      "304      Current Employee - Technical Specialist   \n",
      "586        Current Employee - Anonymous Employee   \n",
      "626         Former Employee - Anonymous Employee   \n",
      "637         Former Employee - Anonymous Employee   \n",
      "659                       Current Employee - Pro   \n",
      "826        Current Employee - Anonymous Employee   \n",
      "874  Former Employee - Applecare At Home Advisor   \n",
      "934        Current Employee - Anonymous Employee   \n",
      "\n",
      "                  ...                Rating: Culture & Values  \\\n",
      "98                ...                                     4.0   \n",
      "280               ...                                     4.0   \n",
      "304               ...                                     4.0   \n",
      "586               ...                                     5.0   \n",
      "626               ...                                     5.0   \n",
      "637               ...                                     5.0   \n",
      "659               ...                                     5.0   \n",
      "826               ...                                     4.0   \n",
      "874               ...                                     5.0   \n",
      "934               ...                                     5.0   \n",
      "\n",
      "    Rating: Career Opportunities Rating: Comp & Benefits  \\\n",
      "98                           5.0                     5.0   \n",
      "280                          4.0                     4.0   \n",
      "304                          2.0                     5.0   \n",
      "586                          5.0                     5.0   \n",
      "626                          5.0                     5.0   \n",
      "637                          3.0                     5.0   \n",
      "659                          5.0                     5.0   \n",
      "826                          4.0                     4.0   \n",
      "874                          5.0                     5.0   \n",
      "934                          4.0                     5.0   \n",
      "\n",
      "    Rating: Senior Management Company Id  \\\n",
      "98                        5.0       1138   \n",
      "280                       3.0       1138   \n",
      "304                       2.0       1138   \n",
      "586                       4.0       1138   \n",
      "626                       4.0       1138   \n",
      "637                       4.0       1138   \n",
      "659                       5.0       1138   \n",
      "826                       3.0       1138   \n",
      "874                       5.0       1138   \n",
      "934                       5.0       1138   \n",
      "\n",
      "                                           Company URL  \\\n",
      "98   https://www.glassdoor.com/Overview/Working-at-...   \n",
      "280  https://www.glassdoor.com/Overview/Working-at-...   \n",
      "304  https://www.glassdoor.com/Overview/Working-at-...   \n",
      "586  https://www.glassdoor.com/Overview/Working-at-...   \n",
      "626  https://www.glassdoor.com/Overview/Working-at-...   \n",
      "637  https://www.glassdoor.com/Overview/Working-at-...   \n",
      "659  https://www.glassdoor.com/Overview/Working-at-...   \n",
      "826  https://www.glassdoor.com/Overview/Working-at-...   \n",
      "874  https://www.glassdoor.com/Overview/Working-at-...   \n",
      "934  https://www.glassdoor.com/Overview/Working-at-...   \n",
      "\n",
      "                        Date Added                   Date Updated  \\\n",
      "98   2018-09-10 02:07:28.615408+00  2018-09-10 02:07:28.615445+00   \n",
      "280   2018-09-10 02:07:28.61512+00  2018-09-10 02:07:28.615159+00   \n",
      "304  2018-09-10 02:07:28.615707+00  2018-09-10 02:07:28.615743+00   \n",
      "586  2018-09-09 02:07:20.863135+00  2018-09-09 02:07:20.863177+00   \n",
      "626  2018-09-09 02:07:20.864257+00  2018-09-09 02:07:20.864291+00   \n",
      "637  2018-09-09 02:07:20.863698+00  2018-09-09 02:07:20.863734+00   \n",
      "659  2018-09-09 02:07:20.863423+00  2018-09-09 02:07:20.863458+00   \n",
      "826  2018-09-08 02:07:18.294015+00  2018-09-08 02:07:18.294051+00   \n",
      "874  2018-09-09 02:07:20.863976+00  2018-09-09 02:07:20.864013+00   \n",
      "934  2018-09-08 02:07:18.293378+00  2018-09-08 02:07:18.293424+00   \n",
      "\n",
      "     Ticker Sector                  Ticker Industry  \n",
      "98      Technology  Technology Hardware & Equipment  \n",
      "280     Technology  Technology Hardware & Equipment  \n",
      "304     Technology  Technology Hardware & Equipment  \n",
      "586     Technology  Technology Hardware & Equipment  \n",
      "626     Technology  Technology Hardware & Equipment  \n",
      "637     Technology  Technology Hardware & Equipment  \n",
      "659     Technology  Technology Hardware & Equipment  \n",
      "826     Technology  Technology Hardware & Equipment  \n",
      "874     Technology  Technology Hardware & Equipment  \n",
      "934     Technology  Technology Hardware & Equipment  \n",
      "\n",
      "[10 rows x 35 columns]\n"
     ]
    }
   ],
   "source": [
    "print data.loc[data['Ticker Symbol'] == 'nasdaq:aapl'][0:10]"
   ]
  },
  {
   "cell_type": "code",
   "execution_count": 58,
   "metadata": {},
   "outputs": [],
   "source": [
    "temp = data.loc[data['Ticker Symbol'] == 'nasdaq:aapl'][0:10]\n",
    "temp.to_csv('temp.csv')"
   ]
  },
  {
   "cell_type": "code",
   "execution_count": 11,
   "metadata": {},
   "outputs": [
    {
     "name": "stdout",
     "output_type": "stream",
     "text": [
      "2631927\n",
      "        Ticker Symbol                                 Entity Name  Dataset  \\\n",
      "2631925       nyse:vz  https://www.glassdoor.com?employer_id=5807  2331686   \n",
      "2631926   nasdaq:ebay  https://www.glassdoor.com?employer_id=7853  2328192   \n",
      "\n",
      "             CUSIP          ISIN  Unique ID              As Of Date  \\\n",
      "2631925  92343V104  US92343V1044    1987253  2008-01-28 05:00:00+00   \n",
      "2631926  278642103  US2786421030     231576  2008-01-25 05:00:00+00   \n",
      "\n",
      "                                                Review Url  \\\n",
      "2631925  https://www.glassdoor.com/Reviews/Employee-Rev...   \n",
      "2631926  https://www.glassdoor.com/Reviews/Employee-Rev...   \n",
      "\n",
      "                                                      Logo  \\\n",
      "2631925  https://media.glassdoor.com/sqls/5807/yahoo-sq...   \n",
      "2631926  https://media.glassdoor.com/sqls/7853/ebay-squ...   \n",
      "\n",
      "                                         Author Title  \\\n",
      "2631925  Current Employee - Product Marketing Manager   \n",
      "2631926       Current Employee - Software QA Engineer   \n",
      "\n",
      "                     ...               Rating: Culture & Values  \\\n",
      "2631925              ...                                    NaN   \n",
      "2631926              ...                                    NaN   \n",
      "\n",
      "        Rating: Career Opportunities Rating: Comp & Benefits  \\\n",
      "2631925                          4.0                     4.0   \n",
      "2631926                          3.5                     3.0   \n",
      "\n",
      "        Rating: Senior Management Company Id  \\\n",
      "2631925                       4.0       5807   \n",
      "2631926                       4.0       7853   \n",
      "\n",
      "                                               Company URL  \\\n",
      "2631925  https://www.glassdoor.com/Overview/Working-at-...   \n",
      "2631926  https://www.glassdoor.com/Overview/Working-at-...   \n",
      "\n",
      "                            Date Added                   Date Updated  \\\n",
      "2631925   2018-04-02 11:31:06.93387+00  2018-06-26 17:46:42.775569+00   \n",
      "2631926  2018-03-28 22:47:10.108555+00  2018-06-22 13:39:25.172707+00   \n",
      "\n",
      "              Ticker Sector                Ticker Industry  \n",
      "2631925  Telecommunications  Fixed Line Telecommunications  \n",
      "2631926   Consumer Services              General Retailers  \n",
      "\n",
      "[2 rows x 35 columns]\n"
     ]
    }
   ],
   "source": [
    "print len(data)\n",
    "#print data[0:10]\n",
    "print data[2631925:2631927]"
   ]
  },
  {
   "cell_type": "code",
   "execution_count": null,
   "metadata": {},
   "outputs": [],
   "source": []
  }
 ],
 "metadata": {
  "kernelspec": {
   "display_name": "Python 2",
   "language": "python",
   "name": "python2"
  },
  "language_info": {
   "codemirror_mode": {
    "name": "ipython",
    "version": 2
   },
   "file_extension": ".py",
   "mimetype": "text/x-python",
   "name": "python",
   "nbconvert_exporter": "python",
   "pygments_lexer": "ipython2",
   "version": "2.7.14"
  }
 },
 "nbformat": 4,
 "nbformat_minor": 2
}
